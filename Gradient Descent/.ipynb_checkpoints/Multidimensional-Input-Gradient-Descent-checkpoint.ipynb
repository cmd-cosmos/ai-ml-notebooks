{
 "cells": [
  {
   "cell_type": "code",
   "execution_count": null,
   "id": "c1358409-663b-4484-abfd-2315629e09fb",
   "metadata": {
    "scrolled": true
   },
   "outputs": [],
   "source": [
    "'''\n",
    "Gradient descent for a 3D feature vector to predict y.\n",
    "'''\n",
    "%matplotlib widget\n",
    "\n",
    "import numpy as np\n",
    "import matplotlib.pyplot as plt\n",
    "\n",
    "def hypothesis(x,y):\n",
    "    return np.sin(5*x) * np.cos(5*y) / 5\n",
    "\n",
    "def gradient_calculation(x,y):\n",
    "    '''partial derivative calc with respect to x,y manually as product rule and chain \n",
    "    rule needed to be applied'''\n",
    "    # pd wrt x ---> 5(cos(5x)*cos(5y))/5 = cos(5x)*cos(5y)\n",
    "    # pd wrt y ---> 5(sin(5x)*-sin(5y))/5 = sin(5x)*(-sin(5y))        \n",
    "    return np.cos(5*x) * np.cos(5*y), -np.sin(5*x) * np.sin(5*y) \n",
    "\n",
    "x = np.arange(-1,1,0.05)\n",
    "y = np.arange(-1,1,0.05)\n",
    "# generated x and y matrices\n",
    "print(f\"x = {x}\")\n",
    "print(f\"y = {y}\")\n",
    "\n"
   ]
  },
  {
   "cell_type": "code",
   "execution_count": 18,
   "id": "dd7d1669-525f-450e-a9b7-d24bd05e446f",
   "metadata": {},
   "outputs": [
    {
     "ename": "KeyboardInterrupt",
     "evalue": "",
     "output_type": "error",
     "traceback": [
      "\u001b[1;31m---------------------------------------------------------------------------\u001b[0m",
      "\u001b[1;31mKeyboardInterrupt\u001b[0m                         Traceback (most recent call last)",
      "Cell \u001b[1;32mIn[18], line 15\u001b[0m\n\u001b[0;32m     13\u001b[0m ax\u001b[38;5;241m.\u001b[39mscatter(current_position[\u001b[38;5;241m0\u001b[39m], current_position[\u001b[38;5;241m1\u001b[39m], current_position[\u001b[38;5;241m2\u001b[39m], color\u001b[38;5;241m=\u001b[39m\u001b[38;5;124m'\u001b[39m\u001b[38;5;124mred\u001b[39m\u001b[38;5;124m'\u001b[39m)\n\u001b[0;32m     14\u001b[0m plt\u001b[38;5;241m.\u001b[39mpause(\u001b[38;5;241m0.001\u001b[39m)\n\u001b[1;32m---> 15\u001b[0m \u001b[43max\u001b[49m\u001b[38;5;241;43m.\u001b[39;49m\u001b[43mclear\u001b[49m\u001b[43m(\u001b[49m\u001b[43m)\u001b[49m\n",
      "File \u001b[1;32mC:\\Python31\\Lib\\site-packages\\mpl_toolkits\\mplot3d\\axes3d.py:1344\u001b[0m, in \u001b[0;36mAxes3D.clear\u001b[1;34m(self)\u001b[0m\n\u001b[0;32m   1342\u001b[0m \u001b[38;5;28;01mdef\u001b[39;00m \u001b[38;5;21mclear\u001b[39m(\u001b[38;5;28mself\u001b[39m):\n\u001b[0;32m   1343\u001b[0m     \u001b[38;5;66;03m# docstring inherited.\u001b[39;00m\n\u001b[1;32m-> 1344\u001b[0m     \u001b[38;5;28;43msuper\u001b[39;49m\u001b[43m(\u001b[49m\u001b[43m)\u001b[49m\u001b[38;5;241;43m.\u001b[39;49m\u001b[43mclear\u001b[49m\u001b[43m(\u001b[49m\u001b[43m)\u001b[49m\n\u001b[0;32m   1345\u001b[0m     \u001b[38;5;28;01mif\u001b[39;00m \u001b[38;5;28mself\u001b[39m\u001b[38;5;241m.\u001b[39m_focal_length \u001b[38;5;241m==\u001b[39m np\u001b[38;5;241m.\u001b[39minf:\n\u001b[0;32m   1346\u001b[0m         \u001b[38;5;28mself\u001b[39m\u001b[38;5;241m.\u001b[39m_zmargin \u001b[38;5;241m=\u001b[39m mpl\u001b[38;5;241m.\u001b[39mrcParams[\u001b[38;5;124m'\u001b[39m\u001b[38;5;124maxes.zmargin\u001b[39m\u001b[38;5;124m'\u001b[39m]\n",
      "File \u001b[1;32mC:\\Python31\\Lib\\site-packages\\matplotlib\\axes\\_base.py:1391\u001b[0m, in \u001b[0;36m_AxesBase.clear\u001b[1;34m(self)\u001b[0m\n\u001b[0;32m   1389\u001b[0m     \u001b[38;5;28mself\u001b[39m\u001b[38;5;241m.\u001b[39mcla()\n\u001b[0;32m   1390\u001b[0m \u001b[38;5;28;01melse\u001b[39;00m:\n\u001b[1;32m-> 1391\u001b[0m     \u001b[38;5;28;43mself\u001b[39;49m\u001b[38;5;241;43m.\u001b[39;49m\u001b[43m__clear\u001b[49m\u001b[43m(\u001b[49m\u001b[43m)\u001b[49m\n",
      "File \u001b[1;32mC:\\Python31\\Lib\\site-packages\\matplotlib\\axes\\_base.py:1274\u001b[0m, in \u001b[0;36m_AxesBase.__clear\u001b[1;34m(self)\u001b[0m\n\u001b[0;32m   1271\u001b[0m yaxis_visible \u001b[38;5;241m=\u001b[39m \u001b[38;5;28mself\u001b[39m\u001b[38;5;241m.\u001b[39myaxis\u001b[38;5;241m.\u001b[39mget_visible()\n\u001b[0;32m   1273\u001b[0m \u001b[38;5;28;01mfor\u001b[39;00m axis \u001b[38;5;129;01min\u001b[39;00m \u001b[38;5;28mself\u001b[39m\u001b[38;5;241m.\u001b[39m_axis_map\u001b[38;5;241m.\u001b[39mvalues():\n\u001b[1;32m-> 1274\u001b[0m     \u001b[43maxis\u001b[49m\u001b[38;5;241;43m.\u001b[39;49m\u001b[43mclear\u001b[49m\u001b[43m(\u001b[49m\u001b[43m)\u001b[49m  \u001b[38;5;66;03m# Also resets the scale to linear.\u001b[39;00m\n\u001b[0;32m   1275\u001b[0m \u001b[38;5;28;01mfor\u001b[39;00m spine \u001b[38;5;129;01min\u001b[39;00m \u001b[38;5;28mself\u001b[39m\u001b[38;5;241m.\u001b[39mspines\u001b[38;5;241m.\u001b[39mvalues():\n\u001b[0;32m   1276\u001b[0m     spine\u001b[38;5;241m.\u001b[39m_clear()  \u001b[38;5;66;03m# Use _clear to not clear Axis again\u001b[39;00m\n",
      "File \u001b[1;32mC:\\Python31\\Lib\\site-packages\\matplotlib\\axis.py:894\u001b[0m, in \u001b[0;36mAxis.clear\u001b[1;34m(self)\u001b[0m\n\u001b[0;32m    890\u001b[0m \u001b[38;5;28mself\u001b[39m\u001b[38;5;241m.\u001b[39mlabelpad \u001b[38;5;241m=\u001b[39m mpl\u001b[38;5;241m.\u001b[39mrcParams[\u001b[38;5;124m'\u001b[39m\u001b[38;5;124maxes.labelpad\u001b[39m\u001b[38;5;124m'\u001b[39m]\n\u001b[0;32m    892\u001b[0m \u001b[38;5;28mself\u001b[39m\u001b[38;5;241m.\u001b[39m_init()\n\u001b[1;32m--> 894\u001b[0m \u001b[38;5;28;43mself\u001b[39;49m\u001b[38;5;241;43m.\u001b[39;49m\u001b[43m_set_scale\u001b[49m\u001b[43m(\u001b[49m\u001b[38;5;124;43m'\u001b[39;49m\u001b[38;5;124;43mlinear\u001b[39;49m\u001b[38;5;124;43m'\u001b[39;49m\u001b[43m)\u001b[49m\n\u001b[0;32m    896\u001b[0m \u001b[38;5;66;03m# Clear the callback registry for this axis, or it may \"leak\"\u001b[39;00m\n\u001b[0;32m    897\u001b[0m \u001b[38;5;28mself\u001b[39m\u001b[38;5;241m.\u001b[39mcallbacks \u001b[38;5;241m=\u001b[39m cbook\u001b[38;5;241m.\u001b[39mCallbackRegistry(signals\u001b[38;5;241m=\u001b[39m[\u001b[38;5;124m\"\u001b[39m\u001b[38;5;124munits\u001b[39m\u001b[38;5;124m\"\u001b[39m])\n",
      "File \u001b[1;32mC:\\Python31\\Lib\\site-packages\\matplotlib\\axis.py:785\u001b[0m, in \u001b[0;36mAxis._set_scale\u001b[1;34m(self, value, **kwargs)\u001b[0m\n\u001b[0;32m    783\u001b[0m \u001b[38;5;28;01melse\u001b[39;00m:\n\u001b[0;32m    784\u001b[0m     \u001b[38;5;28mself\u001b[39m\u001b[38;5;241m.\u001b[39m_scale \u001b[38;5;241m=\u001b[39m value\n\u001b[1;32m--> 785\u001b[0m \u001b[38;5;28;43mself\u001b[39;49m\u001b[38;5;241;43m.\u001b[39;49m\u001b[43m_scale\u001b[49m\u001b[38;5;241;43m.\u001b[39;49m\u001b[43mset_default_locators_and_formatters\u001b[49m\u001b[43m(\u001b[49m\u001b[38;5;28;43mself\u001b[39;49m\u001b[43m)\u001b[49m\n\u001b[0;32m    787\u001b[0m \u001b[38;5;28mself\u001b[39m\u001b[38;5;241m.\u001b[39misDefault_majloc \u001b[38;5;241m=\u001b[39m \u001b[38;5;28;01mTrue\u001b[39;00m\n\u001b[0;32m    788\u001b[0m \u001b[38;5;28mself\u001b[39m\u001b[38;5;241m.\u001b[39misDefault_minloc \u001b[38;5;241m=\u001b[39m \u001b[38;5;28;01mTrue\u001b[39;00m\n",
      "File \u001b[1;32mC:\\Python31\\Lib\\site-packages\\matplotlib\\scale.py:105\u001b[0m, in \u001b[0;36mLinearScale.set_default_locators_and_formatters\u001b[1;34m(self, axis)\u001b[0m\n\u001b[0;32m    103\u001b[0m \u001b[38;5;28;01mdef\u001b[39;00m \u001b[38;5;21mset_default_locators_and_formatters\u001b[39m(\u001b[38;5;28mself\u001b[39m, axis):\n\u001b[0;32m    104\u001b[0m     \u001b[38;5;66;03m# docstring inherited\u001b[39;00m\n\u001b[1;32m--> 105\u001b[0m     axis\u001b[38;5;241m.\u001b[39mset_major_locator(\u001b[43mAutoLocator\u001b[49m\u001b[43m(\u001b[49m\u001b[43m)\u001b[49m)\n\u001b[0;32m    106\u001b[0m     axis\u001b[38;5;241m.\u001b[39mset_major_formatter(ScalarFormatter())\n\u001b[0;32m    107\u001b[0m     axis\u001b[38;5;241m.\u001b[39mset_minor_formatter(NullFormatter())\n",
      "File \u001b[1;32mC:\\Python31\\Lib\\site-packages\\matplotlib\\ticker.py:2876\u001b[0m, in \u001b[0;36mAutoLocator.__init__\u001b[1;34m(self)\u001b[0m\n\u001b[0;32m   2874\u001b[0m     nbins \u001b[38;5;241m=\u001b[39m \u001b[38;5;124m'\u001b[39m\u001b[38;5;124mauto\u001b[39m\u001b[38;5;124m'\u001b[39m\n\u001b[0;32m   2875\u001b[0m     steps \u001b[38;5;241m=\u001b[39m [\u001b[38;5;241m1\u001b[39m, \u001b[38;5;241m2\u001b[39m, \u001b[38;5;241m2.5\u001b[39m, \u001b[38;5;241m5\u001b[39m, \u001b[38;5;241m10\u001b[39m]\n\u001b[1;32m-> 2876\u001b[0m \u001b[38;5;28;43msuper\u001b[39;49m\u001b[43m(\u001b[49m\u001b[43m)\u001b[49m\u001b[38;5;241;43m.\u001b[39;49m\u001b[38;5;21;43m__init__\u001b[39;49m\u001b[43m(\u001b[49m\u001b[43mnbins\u001b[49m\u001b[38;5;241;43m=\u001b[39;49m\u001b[43mnbins\u001b[49m\u001b[43m,\u001b[49m\u001b[43m \u001b[49m\u001b[43msteps\u001b[49m\u001b[38;5;241;43m=\u001b[39;49m\u001b[43msteps\u001b[49m\u001b[43m)\u001b[49m\n",
      "File \u001b[1;32mC:\\Python31\\Lib\\site-packages\\matplotlib\\ticker.py:2034\u001b[0m, in \u001b[0;36mMaxNLocator.__init__\u001b[1;34m(self, nbins, **kwargs)\u001b[0m\n\u001b[0;32m   2032\u001b[0m \u001b[38;5;28;01mif\u001b[39;00m nbins \u001b[38;5;129;01mis\u001b[39;00m \u001b[38;5;129;01mnot\u001b[39;00m \u001b[38;5;28;01mNone\u001b[39;00m:\n\u001b[0;32m   2033\u001b[0m     kwargs[\u001b[38;5;124m'\u001b[39m\u001b[38;5;124mnbins\u001b[39m\u001b[38;5;124m'\u001b[39m] \u001b[38;5;241m=\u001b[39m nbins\n\u001b[1;32m-> 2034\u001b[0m \u001b[38;5;28;43mself\u001b[39;49m\u001b[38;5;241;43m.\u001b[39;49m\u001b[43mset_params\u001b[49m\u001b[43m(\u001b[49m\u001b[38;5;241;43m*\u001b[39;49m\u001b[38;5;241;43m*\u001b[39;49m\u001b[43m{\u001b[49m\u001b[38;5;241;43m*\u001b[39;49m\u001b[38;5;241;43m*\u001b[39;49m\u001b[38;5;28;43mself\u001b[39;49m\u001b[38;5;241;43m.\u001b[39;49m\u001b[43mdefault_params\u001b[49m\u001b[43m,\u001b[49m\u001b[43m \u001b[49m\u001b[38;5;241;43m*\u001b[39;49m\u001b[38;5;241;43m*\u001b[39;49m\u001b[43mkwargs\u001b[49m\u001b[43m}\u001b[49m\u001b[43m)\u001b[49m\n",
      "File \u001b[1;32mC:\\Python31\\Lib\\site-packages\\matplotlib\\ticker.py:2094\u001b[0m, in \u001b[0;36mMaxNLocator.set_params\u001b[1;34m(self, **kwargs)\u001b[0m\n\u001b[0;32m   2092\u001b[0m     \u001b[38;5;28;01melse\u001b[39;00m:\n\u001b[0;32m   2093\u001b[0m         \u001b[38;5;28mself\u001b[39m\u001b[38;5;241m.\u001b[39m_steps \u001b[38;5;241m=\u001b[39m \u001b[38;5;28mself\u001b[39m\u001b[38;5;241m.\u001b[39m_validate_steps(steps)\n\u001b[1;32m-> 2094\u001b[0m     \u001b[38;5;28mself\u001b[39m\u001b[38;5;241m.\u001b[39m_extended_steps \u001b[38;5;241m=\u001b[39m \u001b[38;5;28;43mself\u001b[39;49m\u001b[38;5;241;43m.\u001b[39;49m\u001b[43m_staircase\u001b[49m\u001b[43m(\u001b[49m\u001b[38;5;28;43mself\u001b[39;49m\u001b[38;5;241;43m.\u001b[39;49m\u001b[43m_steps\u001b[49m\u001b[43m)\u001b[49m\n\u001b[0;32m   2095\u001b[0m \u001b[38;5;28;01mif\u001b[39;00m \u001b[38;5;124m'\u001b[39m\u001b[38;5;124minteger\u001b[39m\u001b[38;5;124m'\u001b[39m \u001b[38;5;129;01min\u001b[39;00m kwargs:\n\u001b[0;32m   2096\u001b[0m     \u001b[38;5;28mself\u001b[39m\u001b[38;5;241m.\u001b[39m_integer \u001b[38;5;241m=\u001b[39m kwargs\u001b[38;5;241m.\u001b[39mpop(\u001b[38;5;124m'\u001b[39m\u001b[38;5;124minteger\u001b[39m\u001b[38;5;124m'\u001b[39m)\n",
      "File \u001b[1;32mC:\\Python31\\Lib\\site-packages\\matplotlib\\ticker.py:2055\u001b[0m, in \u001b[0;36mMaxNLocator._staircase\u001b[1;34m(steps)\u001b[0m\n\u001b[0;32m   2051\u001b[0m \u001b[38;5;129m@staticmethod\u001b[39m\n\u001b[0;32m   2052\u001b[0m \u001b[38;5;28;01mdef\u001b[39;00m \u001b[38;5;21m_staircase\u001b[39m(steps):\n\u001b[0;32m   2053\u001b[0m     \u001b[38;5;66;03m# Make an extended staircase within which the needed step will be\u001b[39;00m\n\u001b[0;32m   2054\u001b[0m     \u001b[38;5;66;03m# found.  This is probably much larger than necessary.\u001b[39;00m\n\u001b[1;32m-> 2055\u001b[0m     \u001b[38;5;28;01mreturn\u001b[39;00m \u001b[43mnp\u001b[49m\u001b[38;5;241;43m.\u001b[39;49m\u001b[43mconcatenate\u001b[49m\u001b[43m(\u001b[49m\u001b[43m[\u001b[49m\u001b[38;5;241;43m0.1\u001b[39;49m\u001b[43m \u001b[49m\u001b[38;5;241;43m*\u001b[39;49m\u001b[43m \u001b[49m\u001b[43msteps\u001b[49m\u001b[43m[\u001b[49m\u001b[43m:\u001b[49m\u001b[38;5;241;43m-\u001b[39;49m\u001b[38;5;241;43m1\u001b[39;49m\u001b[43m]\u001b[49m\u001b[43m,\u001b[49m\u001b[43m \u001b[49m\u001b[43msteps\u001b[49m\u001b[43m,\u001b[49m\u001b[43m \u001b[49m\u001b[43m[\u001b[49m\u001b[38;5;241;43m10\u001b[39;49m\u001b[43m \u001b[49m\u001b[38;5;241;43m*\u001b[39;49m\u001b[43m \u001b[49m\u001b[43msteps\u001b[49m\u001b[43m[\u001b[49m\u001b[38;5;241;43m1\u001b[39;49m\u001b[43m]\u001b[49m\u001b[43m]\u001b[49m\u001b[43m]\u001b[49m\u001b[43m)\u001b[49m\n",
      "\u001b[1;31mKeyboardInterrupt\u001b[0m: "
     ]
    }
   ],
   "source": [
    "X,Y = np.meshgrid(x,y)\n",
    "Z = hypothesis(X,Y)\n",
    "\n",
    "current_position = (0.7, 0.4, hypothesis(0.7, 0.4))\n",
    "ax = plt.subplot(projection='3d', computed_zorder=False)\n",
    "\n",
    "alpha = 0.01\n",
    "for _ in range(1000):\n",
    "    X_der, Y_der = gradient_calculation(current_position[0], current_position[1])\n",
    "    X_new, Y_new = current_position[0] - alpha*X_der, current_position[1] - alpha*Y_der\n",
    "    current_position = X_new, Y_new, hypothesis(X_new,Y_new)\n",
    "    ax.plot_surface(X,Y,Z,cmap='viridis')\n",
    "    ax.scatter(current_position[0], current_position[1], current_position[2], color='red')\n",
    "    plt.pause(0.001)\n",
    "    ax.clear()\n"
   ]
  },
  {
   "cell_type": "code",
   "execution_count": null,
   "id": "f37aa68f-452a-4061-9c91-bf9c9e0c168f",
   "metadata": {},
   "outputs": [],
   "source": []
  }
 ],
 "metadata": {
  "kernelspec": {
   "display_name": "Python 3 (ipykernel)",
   "language": "python",
   "name": "python3"
  },
  "language_info": {
   "codemirror_mode": {
    "name": "ipython",
    "version": 3
   },
   "file_extension": ".py",
   "mimetype": "text/x-python",
   "name": "python",
   "nbconvert_exporter": "python",
   "pygments_lexer": "ipython3",
   "version": "3.12.6"
  }
 },
 "nbformat": 4,
 "nbformat_minor": 5
}
